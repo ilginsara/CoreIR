{
 "cells": [
  {
   "cell_type": "code",
   "execution_count": 5,
   "metadata": {},
   "outputs": [
    {
     "ename": "ValueError",
     "evalue": "VM is already running, can't set classpath/options; VM started at  File \"/usr/lib/python3.10/runpy.py\", line 196, in _run_module_as_main\n    return _run_code(code, main_globals, None,\n  File \"/usr/lib/python3.10/runpy.py\", line 86, in _run_code\n    exec(code, run_globals)\n  File \"/usr/lib/python3.10/site-packages/ipykernel_launcher.py\", line 16, in <module>\n    app.launch_new_instance()\n  File \"/usr/lib/python3.10/site-packages/traitlets/config/application.py\", line 846, in launch_instance\n    app.start()\n  File \"/usr/lib/python3.10/site-packages/ipykernel/kernelapp.py\", line 677, in start\n    self.io_loop.start()\n  File \"/usr/lib/python3.10/site-packages/tornado/platform/asyncio.py\", line 199, in start\n    self.asyncio_loop.run_forever()\n  File \"/usr/lib/python3.10/asyncio/base_events.py\", line 595, in run_forever\n    self._run_once()\n  File \"/usr/lib/python3.10/asyncio/base_events.py\", line 1881, in _run_once\n    handle._run()\n  File \"/usr/lib/python3.10/asyncio/events.py\", line 80, in _run\n    self._context.run(self._callback, *self._args)\n  File \"/usr/lib/python3.10/site-packages/ipykernel/kernelbase.py\", line 461, in dispatch_queue\n    await self.process_one()\n  File \"/usr/lib/python3.10/site-packages/ipykernel/kernelbase.py\", line 450, in process_one\n    await dispatch(*args)\n  File \"/usr/lib/python3.10/site-packages/ipykernel/kernelbase.py\", line 357, in dispatch_shell\n    await result\n  File \"/usr/lib/python3.10/site-packages/ipykernel/kernelbase.py\", line 652, in execute_request\n    reply_content = await reply_content\n  File \"/usr/lib/python3.10/site-packages/ipykernel/ipkernel.py\", line 359, in do_execute\n    res = shell.run_cell(code, store_history=store_history, silent=silent)\n  File \"/usr/lib/python3.10/site-packages/ipykernel/zmqshell.py\", line 532, in run_cell\n    return super().run_cell(*args, **kwargs)\n  File \"/usr/lib/python3.10/site-packages/IPython/core/interactiveshell.py\", line 2768, in run_cell\n    result = self._run_cell(\n  File \"/usr/lib/python3.10/site-packages/IPython/core/interactiveshell.py\", line 2814, in _run_cell\n    return runner(coro)\n  File \"/usr/lib/python3.10/site-packages/IPython/core/async_helpers.py\", line 129, in _pseudo_sync_runner\n    coro.send(None)\n  File \"/usr/lib/python3.10/site-packages/IPython/core/interactiveshell.py\", line 3012, in run_cell_async\n    has_raised = await self.run_ast_nodes(code_ast.body, cell_name,\n  File \"/usr/lib/python3.10/site-packages/IPython/core/interactiveshell.py\", line 3191, in run_ast_nodes\n    if await self.run_code(code, result, async_=asy):\n  File \"/usr/lib/python3.10/site-packages/IPython/core/interactiveshell.py\", line 3251, in run_code\n    exec(code_obj, self.user_global_ns, self.user_ns)\n  File \"/tmp/ipykernel_248492/2775686768.py\", line 3, in <module>\n    pt.init()\n  File \"/home/sneha-lodha/.local/lib/python3.10/site-packages/pyterrier/__init__.py\", line 98, in init\n    from jnius import autoclass, cast\n  File \"<frozen importlib._bootstrap>\", line 1027, in _find_and_load\n  File \"<frozen importlib._bootstrap>\", line 1006, in _find_and_load_unlocked\n  File \"<frozen importlib._bootstrap>\", line 688, in _load_unlocked\n  File \"<frozen importlib._bootstrap_external>\", line 883, in exec_module\n  File \"<frozen importlib._bootstrap>\", line 241, in _call_with_frames_removed\n  File \"/home/sneha-lodha/.local/lib/python3.10/site-packages/jnius/__init__.py\", line 42, in <module>\n    from .reflect import *  # noqa\n  File \"<frozen importlib._bootstrap>\", line 1027, in _find_and_load\n  File \"<frozen importlib._bootstrap>\", line 1006, in _find_and_load_unlocked\n  File \"<frozen importlib._bootstrap>\", line 688, in _load_unlocked\n  File \"<frozen importlib._bootstrap_external>\", line 883, in exec_module\n  File \"<frozen importlib._bootstrap>\", line 241, in _call_with_frames_removed\n  File \"/home/sneha-lodha/.local/lib/python3.10/site-packages/jnius/reflect.py\", line 20, in <module>\n    class Class(with_metaclass(MetaJavaClass, JavaClass)):\n  File \"/usr/lib/python3.10/site-packages/six.py\", line 872, in __new__\n    return meta(name, resolved_bases, d)\n",
     "output_type": "error",
     "traceback": [
      "\u001b[0;31m---------------------------------------------------------------------------\u001b[0m",
      "\u001b[0;31mValueError\u001b[0m                                Traceback (most recent call last)",
      "Input \u001b[0;32mIn [5]\u001b[0m, in \u001b[0;36m<module>\u001b[0;34m\u001b[0m\n\u001b[1;32m      1\u001b[0m \u001b[38;5;28;01mimport\u001b[39;00m \u001b[38;5;21;01mpyterrier\u001b[39;00m \u001b[38;5;28;01mas\u001b[39;00m \u001b[38;5;21;01mpt\u001b[39;00m\n\u001b[0;32m----> 3\u001b[0m \u001b[43mpt\u001b[49m\u001b[38;5;241;43m.\u001b[39;49m\u001b[43minit\u001b[49m\u001b[43m(\u001b[49m\u001b[43m)\u001b[49m\n",
      "File \u001b[0;32m~/.local/lib/python3.10/site-packages/pyterrier/__init__.py:92\u001b[0m, in \u001b[0;36minit\u001b[0;34m(version, mem, packages, jvm_opts, redirect_io, logging, home_dir, boot_packages, tqdm)\u001b[0m\n\u001b[1;32m     90\u001b[0m \u001b[38;5;28;01mimport\u001b[39;00m \u001b[38;5;21;01mjnius_config\u001b[39;00m\n\u001b[1;32m     91\u001b[0m \u001b[38;5;28;01mfor\u001b[39;00m jar \u001b[38;5;129;01min\u001b[39;00m classpathTrJars:\n\u001b[0;32m---> 92\u001b[0m     \u001b[43mjnius_config\u001b[49m\u001b[38;5;241;43m.\u001b[39;49m\u001b[43madd_classpath\u001b[49m\u001b[43m(\u001b[49m\u001b[43mjar\u001b[49m\u001b[43m)\u001b[49m\n\u001b[1;32m     93\u001b[0m \u001b[38;5;28;01mif\u001b[39;00m jvm_opts \u001b[38;5;129;01mis\u001b[39;00m \u001b[38;5;129;01mnot\u001b[39;00m \u001b[38;5;28;01mNone\u001b[39;00m:\n\u001b[1;32m     94\u001b[0m     \u001b[38;5;28;01mfor\u001b[39;00m opt \u001b[38;5;129;01min\u001b[39;00m jvm_opts:\n",
      "File \u001b[0;32m~/.local/lib/python3.10/site-packages/jnius_config.py:57\u001b[0m, in \u001b[0;36madd_classpath\u001b[0;34m(*path)\u001b[0m\n\u001b[1;32m     52\u001b[0m \u001b[38;5;28;01mdef\u001b[39;00m \u001b[38;5;21madd_classpath\u001b[39m(\u001b[38;5;241m*\u001b[39mpath):\n\u001b[1;32m     53\u001b[0m     \u001b[38;5;124;03m\"\"\"\u001b[39;00m\n\u001b[1;32m     54\u001b[0m \u001b[38;5;124;03m    Appends items to the classpath for the JVM to use.\u001b[39;00m\n\u001b[1;32m     55\u001b[0m \u001b[38;5;124;03m    Replaces any existing classpath, overriding the CLASSPATH environment variable.\u001b[39;00m\n\u001b[1;32m     56\u001b[0m \u001b[38;5;124;03m    \"\"\"\u001b[39;00m\n\u001b[0;32m---> 57\u001b[0m     \u001b[43mcheck_vm_running\u001b[49m\u001b[43m(\u001b[49m\u001b[43m)\u001b[49m\n\u001b[1;32m     58\u001b[0m     \u001b[38;5;28;01mglobal\u001b[39;00m classpath\n\u001b[1;32m     59\u001b[0m     \u001b[38;5;28;01mif\u001b[39;00m classpath \u001b[38;5;129;01mis\u001b[39;00m \u001b[38;5;28;01mNone\u001b[39;00m:\n",
      "File \u001b[0;32m~/.local/lib/python3.10/site-packages/jnius_config.py:20\u001b[0m, in \u001b[0;36mcheck_vm_running\u001b[0;34m()\u001b[0m\n\u001b[1;32m     18\u001b[0m \u001b[38;5;124;03m\"\"\"Raises a ValueError if the VM is already running.\"\"\"\u001b[39;00m\n\u001b[1;32m     19\u001b[0m \u001b[38;5;28;01mif\u001b[39;00m vm_running:\n\u001b[0;32m---> 20\u001b[0m     \u001b[38;5;28;01mraise\u001b[39;00m \u001b[38;5;167;01mValueError\u001b[39;00m(\u001b[38;5;124m\"\u001b[39m\u001b[38;5;124mVM is already running, can\u001b[39m\u001b[38;5;124m'\u001b[39m\u001b[38;5;124mt set classpath/options; VM started at\u001b[39m\u001b[38;5;124m\"\u001b[39m \u001b[38;5;241m+\u001b[39m vm_started_at)\n",
      "\u001b[0;31mValueError\u001b[0m: VM is already running, can't set classpath/options; VM started at  File \"/usr/lib/python3.10/runpy.py\", line 196, in _run_module_as_main\n    return _run_code(code, main_globals, None,\n  File \"/usr/lib/python3.10/runpy.py\", line 86, in _run_code\n    exec(code, run_globals)\n  File \"/usr/lib/python3.10/site-packages/ipykernel_launcher.py\", line 16, in <module>\n    app.launch_new_instance()\n  File \"/usr/lib/python3.10/site-packages/traitlets/config/application.py\", line 846, in launch_instance\n    app.start()\n  File \"/usr/lib/python3.10/site-packages/ipykernel/kernelapp.py\", line 677, in start\n    self.io_loop.start()\n  File \"/usr/lib/python3.10/site-packages/tornado/platform/asyncio.py\", line 199, in start\n    self.asyncio_loop.run_forever()\n  File \"/usr/lib/python3.10/asyncio/base_events.py\", line 595, in run_forever\n    self._run_once()\n  File \"/usr/lib/python3.10/asyncio/base_events.py\", line 1881, in _run_once\n    handle._run()\n  File \"/usr/lib/python3.10/asyncio/events.py\", line 80, in _run\n    self._context.run(self._callback, *self._args)\n  File \"/usr/lib/python3.10/site-packages/ipykernel/kernelbase.py\", line 461, in dispatch_queue\n    await self.process_one()\n  File \"/usr/lib/python3.10/site-packages/ipykernel/kernelbase.py\", line 450, in process_one\n    await dispatch(*args)\n  File \"/usr/lib/python3.10/site-packages/ipykernel/kernelbase.py\", line 357, in dispatch_shell\n    await result\n  File \"/usr/lib/python3.10/site-packages/ipykernel/kernelbase.py\", line 652, in execute_request\n    reply_content = await reply_content\n  File \"/usr/lib/python3.10/site-packages/ipykernel/ipkernel.py\", line 359, in do_execute\n    res = shell.run_cell(code, store_history=store_history, silent=silent)\n  File \"/usr/lib/python3.10/site-packages/ipykernel/zmqshell.py\", line 532, in run_cell\n    return super().run_cell(*args, **kwargs)\n  File \"/usr/lib/python3.10/site-packages/IPython/core/interactiveshell.py\", line 2768, in run_cell\n    result = self._run_cell(\n  File \"/usr/lib/python3.10/site-packages/IPython/core/interactiveshell.py\", line 2814, in _run_cell\n    return runner(coro)\n  File \"/usr/lib/python3.10/site-packages/IPython/core/async_helpers.py\", line 129, in _pseudo_sync_runner\n    coro.send(None)\n  File \"/usr/lib/python3.10/site-packages/IPython/core/interactiveshell.py\", line 3012, in run_cell_async\n    has_raised = await self.run_ast_nodes(code_ast.body, cell_name,\n  File \"/usr/lib/python3.10/site-packages/IPython/core/interactiveshell.py\", line 3191, in run_ast_nodes\n    if await self.run_code(code, result, async_=asy):\n  File \"/usr/lib/python3.10/site-packages/IPython/core/interactiveshell.py\", line 3251, in run_code\n    exec(code_obj, self.user_global_ns, self.user_ns)\n  File \"/tmp/ipykernel_248492/2775686768.py\", line 3, in <module>\n    pt.init()\n  File \"/home/sneha-lodha/.local/lib/python3.10/site-packages/pyterrier/__init__.py\", line 98, in init\n    from jnius import autoclass, cast\n  File \"<frozen importlib._bootstrap>\", line 1027, in _find_and_load\n  File \"<frozen importlib._bootstrap>\", line 1006, in _find_and_load_unlocked\n  File \"<frozen importlib._bootstrap>\", line 688, in _load_unlocked\n  File \"<frozen importlib._bootstrap_external>\", line 883, in exec_module\n  File \"<frozen importlib._bootstrap>\", line 241, in _call_with_frames_removed\n  File \"/home/sneha-lodha/.local/lib/python3.10/site-packages/jnius/__init__.py\", line 42, in <module>\n    from .reflect import *  # noqa\n  File \"<frozen importlib._bootstrap>\", line 1027, in _find_and_load\n  File \"<frozen importlib._bootstrap>\", line 1006, in _find_and_load_unlocked\n  File \"<frozen importlib._bootstrap>\", line 688, in _load_unlocked\n  File \"<frozen importlib._bootstrap_external>\", line 883, in exec_module\n  File \"<frozen importlib._bootstrap>\", line 241, in _call_with_frames_removed\n  File \"/home/sneha-lodha/.local/lib/python3.10/site-packages/jnius/reflect.py\", line 20, in <module>\n    class Class(with_metaclass(MetaJavaClass, JavaClass)):\n  File \"/usr/lib/python3.10/site-packages/six.py\", line 872, in __new__\n    return meta(name, resolved_bases, d)\n"
     ]
    }
   ],
   "source": [
    "import pyterrier as pt\n",
    "\n",
    "pt.init()"
   ]
  },
  {
   "cell_type": "code",
   "execution_count": 8,
   "metadata": {},
   "outputs": [
    {
     "name": "stdout",
     "output_type": "stream",
     "text": [
      " 1 6073325 8.97830\n",
      " 2 6073328 8.88800\n",
      " 3 2560334 8.67230\n",
      " 4 6073327 8.52030\n",
      " 5 2816905 8.27310\n",
      " 6 4223589 8.15020\n",
      " 7 8132241 8.15020\n",
      " 8 4644641 7.98890\n",
      " 9 6199273 7.83090\n",
      "10 8442446 7.71430\n"
     ]
    }
   ],
   "source": []
  }
 ],
 "metadata": {
  "interpreter": {
   "hash": "d2152fd7f0bbc62aa1baff8c990435d1e2c7175d001561303988032604c11a48"
  },
  "kernelspec": {
   "display_name": "Python 3.10.2 64-bit",
   "language": "python",
   "name": "python3"
  },
  "language_info": {
   "codemirror_mode": {
    "name": "ipython",
    "version": 3
   },
   "file_extension": ".py",
   "mimetype": "text/x-python",
   "name": "python",
   "nbconvert_exporter": "python",
   "pygments_lexer": "ipython3",
   "version": "3.10.2"
  },
  "orig_nbformat": 4
 },
 "nbformat": 4,
 "nbformat_minor": 2
}
